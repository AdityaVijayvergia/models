{
  "nbformat": 4,
  "nbformat_minor": 0,
  "metadata": {
    "colab": {
      "name": "Sentiment classification using RNN.ipynb",
      "version": "0.3.2",
      "provenance": [],
      "collapsed_sections": []
    },
    "kernelspec": {
      "name": "python3",
      "display_name": "Python 3"
    },
    "accelerator": "GPU"
  },
  "cells": [
    {
      "cell_type": "markdown",
      "metadata": {
        "id": "view-in-github",
        "colab_type": "text"
      },
      "source": [
        "[View in Colaboratory](https://colab.research.google.com/github/AdityaVijayvergia/models/blob/master/Sentiment_analysis_using_RNN.ipynb)"
      ]
    },
    {
      "metadata": {
        "id": "p2zf4jt0odhG",
        "colab_type": "code",
        "colab": {
          "base_uri": "https://localhost:8080/",
          "height": 34
        },
        "outputId": "3f93ba96-c9f8-42c4-b365-677e4562ce20"
      },
      "cell_type": "code",
      "source": [
        "from keras.datasets import imdb"
      ],
      "execution_count": 2,
      "outputs": [
        {
          "output_type": "stream",
          "text": [
            "Using TensorFlow backend.\n"
          ],
          "name": "stderr"
        }
      ]
    },
    {
      "metadata": {
        "id": "71J8K2UZpDf2",
        "colab_type": "code",
        "colab": {
          "base_uri": "https://localhost:8080/",
          "height": 52
        },
        "outputId": "217a12c7-19a2-4d3f-c44e-0485582b2b44"
      },
      "cell_type": "code",
      "source": [
        "max_features = 10000\n",
        "maxlen = 500\n",
        "batch_size = 32\n",
        "\n",
        "(input_train, y_train), (input_test, y_test) = imdb.load_data(num_words=max_features)\n",
        "print(len(input_train), 'train sequences')\n",
        "print(len(input_test), 'test sequences')"
      ],
      "execution_count": 3,
      "outputs": [
        {
          "output_type": "stream",
          "text": [
            "25000 train sequences\n",
            "25000 test sequences\n"
          ],
          "name": "stdout"
        }
      ]
    },
    {
      "metadata": {
        "id": "5jkEXCL-3PXq",
        "colab_type": "code",
        "colab": {}
      },
      "cell_type": "code",
      "source": [
        "word_index = imdb.get_word_index()"
      ],
      "execution_count": 0,
      "outputs": []
    },
    {
      "metadata": {
        "id": "GKyjh-YWpcRx",
        "colab_type": "code",
        "colab": {}
      },
      "cell_type": "code",
      "source": [
        "from keras.preprocessing import sequence"
      ],
      "execution_count": 0,
      "outputs": []
    },
    {
      "metadata": {
        "id": "me1hTWHypl-s",
        "colab_type": "code",
        "colab": {
          "base_uri": "https://localhost:8080/",
          "height": 52
        },
        "outputId": "e5ff89ea-1853-4bdf-a70a-ebe5e556f82e"
      },
      "cell_type": "code",
      "source": [
        "input_train = sequence.pad_sequences(input_train, maxlen=maxlen)\n",
        "input_test = sequence.pad_sequences(input_test, maxlen=maxlen)\n",
        "\n",
        "print('input_train shape:', input_train.shape)\n",
        "print('input_test shape:', input_test.shape)"
      ],
      "execution_count": 6,
      "outputs": [
        {
          "output_type": "stream",
          "text": [
            "input_train shape: (25000, 500)\n",
            "input_test shape: (25000, 500)\n"
          ],
          "name": "stdout"
        }
      ]
    },
    {
      "metadata": {
        "id": "IeZrGrZvtFWV",
        "colab_type": "code",
        "colab": {}
      },
      "cell_type": "code",
      "source": [
        "from keras.layers import Dense, Embedding, LSTM\n",
        "from keras.models import Sequential"
      ],
      "execution_count": 0,
      "outputs": []
    },
    {
      "metadata": {
        "id": "s39KfsDRtXYl",
        "colab_type": "code",
        "colab": {}
      },
      "cell_type": "code",
      "source": [
        "model = Sequential()\n",
        "model.add(Embedding(max_features, 100))\n",
        "model.add(LSTM(32, dropout=0.2, recurrent_dropout=0.2))\n",
        "model.add(Dense(1, activation='sigmoid'))"
      ],
      "execution_count": 0,
      "outputs": []
    },
    {
      "metadata": {
        "id": "ND9m46u9thGa",
        "colab_type": "code",
        "colab": {
          "base_uri": "https://localhost:8080/",
          "height": 70
        },
        "outputId": "0a3ea80b-eb89-4605-a4ce-79ad2cf63246"
      },
      "cell_type": "code",
      "source": [
        "model.layers"
      ],
      "execution_count": 9,
      "outputs": [
        {
          "output_type": "execute_result",
          "data": {
            "text/plain": [
              "[<keras.layers.embeddings.Embedding at 0x7f110d5044a8>,\n",
              " <keras.layers.recurrent.LSTM at 0x7f110c3a5e10>,\n",
              " <keras.layers.core.Dense at 0x7f110d5046d8>]"
            ]
          },
          "metadata": {
            "tags": []
          },
          "execution_count": 9
        }
      ]
    },
    {
      "metadata": {
        "id": "RvO-mGKttvu5",
        "colab_type": "code",
        "colab": {
          "base_uri": "https://localhost:8080/",
          "height": 301
        },
        "outputId": "ced65332-d94b-4d00-e5ca-47ff7421e1de"
      },
      "cell_type": "code",
      "source": [
        "!wget http://nlp.stanford.edu/data/glove.6B.zip"
      ],
      "execution_count": 10,
      "outputs": [
        {
          "output_type": "stream",
          "text": [
            "--2018-06-10 12:31:47--  http://nlp.stanford.edu/data/glove.6B.zip\r\n",
            "Resolving nlp.stanford.edu (nlp.stanford.edu)... 171.64.67.140\n",
            "Connecting to nlp.stanford.edu (nlp.stanford.edu)|171.64.67.140|:80... connected.\n",
            "HTTP request sent, awaiting response... 302 Found\n",
            "Location: https://nlp.stanford.edu/data/glove.6B.zip [following]\n",
            "--2018-06-10 12:31:48--  https://nlp.stanford.edu/data/glove.6B.zip\n",
            "Connecting to nlp.stanford.edu (nlp.stanford.edu)|171.64.67.140|:443... connected.\n",
            "HTTP request sent, awaiting response... 200 OK\n",
            "Length: 862182613 (822M) [application/zip]\n",
            "Saving to: ‘glove.6B.zip.1’\n",
            "\n",
            "glove.6B.zip.1       70%[=============>      ] 581.87M  19.7MB/s    eta 14s    "
          ],
          "name": "stdout"
        },
        {
          "output_type": "stream",
          "text": [
            "glove.6B.zip.1      100%[===================>] 822.24M  19.6MB/s    in 45s     \n",
            "\n",
            "2018-06-10 12:32:33 (18.4 MB/s) - ‘glove.6B.zip.1’ saved [862182613/862182613]\n",
            "\n"
          ],
          "name": "stdout"
        }
      ]
    },
    {
      "metadata": {
        "id": "HCt97aLStxSE",
        "colab_type": "code",
        "colab": {
          "base_uri": "https://localhost:8080/",
          "height": 52
        },
        "outputId": "2adb71ad-3cc3-44d0-f63d-17de911b0028"
      },
      "cell_type": "code",
      "source": [
        "!unzip glove.6B.zip"
      ],
      "execution_count": 12,
      "outputs": [
        {
          "output_type": "stream",
          "text": [
            "Archive:  glove.6B.zip\n",
            "replace glove.6B.50d.txt? [y]es, [n]o, [A]ll, [N]one, [r]ename: ^C\n"
          ],
          "name": "stdout"
        }
      ]
    },
    {
      "metadata": {
        "id": "uMvQI1HouQqR",
        "colab_type": "code",
        "colab": {
          "base_uri": "https://localhost:8080/",
          "height": 52
        },
        "outputId": "c7399ee5-b9af-46d8-cac4-7b8cd0290f97"
      },
      "cell_type": "code",
      "source": [
        "ls"
      ],
      "execution_count": 13,
      "outputs": [
        {
          "output_type": "stream",
          "text": [
            "\u001b[0m\u001b[01;34mdatalab\u001b[0m/           glove.6B.200d.txt  glove.6B.50d.txt  glove.6B.zip.1\r\n",
            "glove.6B.100d.txt  glove.6B.300d.txt  glove.6B.zip\r\n"
          ],
          "name": "stdout"
        }
      ]
    },
    {
      "metadata": {
        "id": "Pe-YaczGuDpG",
        "colab_type": "code",
        "colab": {
          "base_uri": "https://localhost:8080/",
          "height": 34
        },
        "outputId": "5b133842-2a6b-4fe4-9bbf-c8fa03e4e53c"
      },
      "cell_type": "code",
      "source": [
        "import os\n",
        "import numpy as np\n",
        "glove_dir = '/content'\n",
        "embeddings_index = {}\n",
        "f = open(os.path.join(glove_dir, 'glove.6B.100d.txt'))\n",
        "for line in f:\n",
        "  values = line.split()\n",
        "  word = values[0]\n",
        "  coefs = np.asarray(values[1:], dtype='float32')\n",
        "  embeddings_index[word] = coefs\n",
        "f.close()\n",
        "print('Found %s word vectors.' % len(embeddings_index))"
      ],
      "execution_count": 14,
      "outputs": [
        {
          "output_type": "stream",
          "text": [
            "Found 400000 word vectors.\n"
          ],
          "name": "stdout"
        }
      ]
    },
    {
      "metadata": {
        "id": "iEdO0qHfuZ3o",
        "colab_type": "code",
        "colab": {}
      },
      "cell_type": "code",
      "source": [
        "embedding_dim = 100\n",
        "\n",
        "embedding_matrix = np.zeros((max_features, embedding_dim))\n",
        "for word, i in word_index.items():\n",
        "  if i < maxlen:\n",
        "    embedding_vector = embeddings_index.get(word)\n",
        "    if embedding_vector is not None:\n",
        "      embedding_matrix[i] = embedding_vector"
      ],
      "execution_count": 0,
      "outputs": []
    },
    {
      "metadata": {
        "id": "0Ow54ngSuy0T",
        "colab_type": "code",
        "colab": {}
      },
      "cell_type": "code",
      "source": [
        "model.layers[0].set_weights([embedding_matrix])\n",
        "model.layers[0].trainable = False"
      ],
      "execution_count": 0,
      "outputs": []
    },
    {
      "metadata": {
        "id": "nWyJI39l2lFt",
        "colab_type": "code",
        "colab": {
          "base_uri": "https://localhost:8080/",
          "height": 246
        },
        "outputId": "2c8830c0-d5e1-4c19-c180-dfc362f63604"
      },
      "cell_type": "code",
      "source": [
        "model.summary()"
      ],
      "execution_count": 17,
      "outputs": [
        {
          "output_type": "stream",
          "text": [
            "_________________________________________________________________\n",
            "Layer (type)                 Output Shape              Param #   \n",
            "=================================================================\n",
            "embedding_1 (Embedding)      (None, None, 100)         1000000   \n",
            "_________________________________________________________________\n",
            "lstm_1 (LSTM)                (None, 32)                17024     \n",
            "_________________________________________________________________\n",
            "dense_1 (Dense)              (None, 1)                 33        \n",
            "=================================================================\n",
            "Total params: 1,017,057\n",
            "Trainable params: 17,057\n",
            "Non-trainable params: 1,000,000\n",
            "_________________________________________________________________\n"
          ],
          "name": "stdout"
        }
      ]
    },
    {
      "metadata": {
        "id": "ABHLVI0x4I3e",
        "colab_type": "code",
        "colab": {}
      },
      "cell_type": "code",
      "source": [
        "model.compile(optimizer='adam', loss='binary_crossentropy', metrics=['acc'])"
      ],
      "execution_count": 0,
      "outputs": []
    },
    {
      "metadata": {
        "id": "XnToUZV590WY",
        "colab_type": "code",
        "colab": {}
      },
      "cell_type": "code",
      "source": [
        ""
      ],
      "execution_count": 0,
      "outputs": []
    },
    {
      "metadata": {
        "id": "nook9pDf40Ny",
        "colab_type": "code",
        "colab": {
          "base_uri": "https://localhost:8080/",
          "height": 477
        },
        "outputId": "8aba33c1-819d-4682-d976-848766e8a715"
      },
      "cell_type": "code",
      "source": [
        "history = model.fit(input_train, y_train, epochs=15, batch_size=32, validation_split=0.2)"
      ],
      "execution_count": 0,
      "outputs": [
        {
          "output_type": "stream",
          "text": [
            "Train on 20000 samples, validate on 5000 samples\n",
            "Epoch 1/15\n",
            "20000/20000 [==============================] - 847s 42ms/step - loss: 0.6892 - acc: 0.5373 - val_loss: 0.6811 - val_acc: 0.5634\n",
            "Epoch 2/15\n",
            "  992/20000 [>.............................] - ETA: 12:39 - loss: 0.6807 - acc: 0.5464"
          ],
          "name": "stdout"
        },
        {
          "output_type": "stream",
          "text": [
            "20000/20000 [==============================] - 854s 43ms/step - loss: 0.6677 - acc: 0.5867 - val_loss: 0.6752 - val_acc: 0.5632\n",
            "Epoch 3/15\n",
            " 6976/20000 [=========>....................] - ETA: 8:41 - loss: 0.6336 - acc: 0.6426"
          ],
          "name": "stdout"
        },
        {
          "output_type": "stream",
          "text": [
            "20000/20000 [==============================] - 855s 43ms/step - loss: 0.6276 - acc: 0.6482 - val_loss: 0.6045 - val_acc: 0.6734\n",
            "Epoch 4/15\n",
            " 9280/20000 [============>.................] - ETA: 7:09 - loss: 0.6024 - acc: 0.6741"
          ],
          "name": "stdout"
        },
        {
          "output_type": "stream",
          "text": [
            "20000/20000 [==============================] - 855s 43ms/step - loss: 0.5988 - acc: 0.6783 - val_loss: 0.5674 - val_acc: 0.7042\n",
            "Epoch 5/15\n",
            "10144/20000 [==============>...............] - ETA: 6:31 - loss: 0.5855 - acc: 0.6898"
          ],
          "name": "stdout"
        },
        {
          "output_type": "stream",
          "text": [
            "20000/20000 [==============================] - 843s 42ms/step - loss: 0.5800 - acc: 0.6942 - val_loss: 0.5461 - val_acc: 0.7184\n",
            "Epoch 6/15\n",
            "10464/20000 [==============>...............] - ETA: 6:15 - loss: 0.5592 - acc: 0.7123"
          ],
          "name": "stdout"
        },
        {
          "output_type": "stream",
          "text": [
            "20000/20000 [==============================] - 849s 42ms/step - loss: 0.5564 - acc: 0.7144 - val_loss: 0.5335 - val_acc: 0.7330\n",
            "Epoch 7/15\n",
            "10592/20000 [==============>...............] - ETA: 6:18 - loss: 0.5407 - acc: 0.7243"
          ],
          "name": "stdout"
        },
        {
          "output_type": "stream",
          "text": [
            "20000/20000 [==============================] - 857s 43ms/step - loss: 0.5432 - acc: 0.7207 - val_loss: 0.5345 - val_acc: 0.7304\n",
            "Epoch 8/15\n",
            "10656/20000 [==============>...............] - ETA: 6:12 - loss: 0.5246 - acc: 0.7386"
          ],
          "name": "stdout"
        },
        {
          "output_type": "stream",
          "text": [
            "20000/20000 [==============================] - 849s 42ms/step - loss: 0.5210 - acc: 0.7394 - val_loss: 0.4926 - val_acc: 0.7616\n",
            "Epoch 9/15\n",
            "10656/20000 [==============>...............] - ETA: 6:09 - loss: 0.5094 - acc: 0.7489"
          ],
          "name": "stdout"
        },
        {
          "output_type": "stream",
          "text": [
            "20000/20000 [==============================] - 842s 42ms/step - loss: 0.5069 - acc: 0.7509 - val_loss: 0.5069 - val_acc: 0.7540\n",
            "Epoch 10/15\n",
            "10624/20000 [==============>...............] - ETA: 6:08 - loss: 0.4943 - acc: 0.7558"
          ],
          "name": "stdout"
        },
        {
          "output_type": "stream",
          "text": [
            "20000/20000 [==============================] - 841s 42ms/step - loss: 0.4904 - acc: 0.7598 - val_loss: 0.4675 - val_acc: 0.7832\n",
            "Epoch 11/15\n",
            "10624/20000 [==============>...............] - ETA: 6:14 - loss: 0.4848 - acc: 0.7659"
          ],
          "name": "stdout"
        },
        {
          "output_type": "stream",
          "text": [
            "20000/20000 [==============================] - 853s 43ms/step - loss: 0.4781 - acc: 0.7701 - val_loss: 0.4581 - val_acc: 0.7838\n",
            "Epoch 12/15\n",
            "10624/20000 [==============>...............] - ETA: 6:15 - loss: 0.4667 - acc: 0.7754"
          ],
          "name": "stdout"
        },
        {
          "output_type": "stream",
          "text": [
            "19968/20000 [============================>.] - ETA: 1s - loss: 0.4647 - acc: 0.7769"
          ],
          "name": "stdout"
        }
      ]
    },
    {
      "metadata": {
        "id": "AyzJzFrO5Ds3",
        "colab_type": "code",
        "colab": {
          "base_uri": "https://localhost:8080/",
          "height": 52
        },
        "outputId": "399d1b75-86b8-4f1d-a6d2-65a4f8b60c66"
      },
      "cell_type": "code",
      "source": [
        "model.save_weights('pre_trained_glove_model.h5')"
      ],
      "execution_count": 1,
      "outputs": [
        {
          "output_type": "stream",
          "text": [
            "\u001b[0m\u001b[01;34mdatalab\u001b[0m/           glove.6B.200d.txt  glove.6B.50d.txt\r\n",
            "glove.6B.100d.txt  glove.6B.300d.txt  glove.6B.zip\r\n"
          ],
          "name": "stdout"
        }
      ]
    },
    {
      "metadata": {
        "id": "45w9_HJw6wdB",
        "colab_type": "code",
        "colab": {}
      },
      "cell_type": "code",
      "source": [
        "import matplotlib.pyplot as plt\n",
        "acc = history.history['acc']\n",
        "val_acc = history.history['val_acc']\n",
        "loss = history.history['loss']\n",
        "val_loss = history.history['val_loss']\n",
        "epochs = range(1, len(acc) + 1)\n",
        "plt.plot(epochs, acc, 'bo', label='Training acc')\n",
        "plt.plot(epochs, val_acc, 'b', label='Validation acc')\n",
        "plt.title('Training and validation accuracy')\n",
        "plt.legend()\n",
        "plt.figure()\n",
        "plt.plot(epochs, loss, 'bo', label='Training loss')\n",
        "plt.plot(epochs, val_loss, 'b', label='Validation loss')\n",
        "plt.title('Training and validation loss')\n",
        "plt.legend()\n",
        "plt.show()"
      ],
      "execution_count": 0,
      "outputs": []
    },
    {
      "metadata": {
        "id": "kQAQGZRX-hoI",
        "colab_type": "code",
        "colab": {}
      },
      "cell_type": "code",
      "source": [
        ""
      ],
      "execution_count": 0,
      "outputs": []
    }
  ]
}